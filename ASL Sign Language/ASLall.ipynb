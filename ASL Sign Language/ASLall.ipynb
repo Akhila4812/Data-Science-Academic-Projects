{
  "nbformat": 4,
  "nbformat_minor": 0,
  "metadata": {
    "colab": {
      "provenance": [],
      "gpuType": "T4"
    },
    "kernelspec": {
      "name": "python3",
      "display_name": "Python 3"
    },
    "language_info": {
      "name": "python"
    },
    "accelerator": "GPU"
  },
  "cells": [
    {
      "cell_type": "code",
      "execution_count": 5,
      "metadata": {
        "id": "IOOE6KVkn-Hr"
      },
      "outputs": [],
      "source": [
        "import tensorflow as tf\n",
        "from tensorflow.keras.applications import VGG16\n",
        "from tensorflow.keras.models import Sequential\n",
        "from tensorflow.keras.layers import Dense, Dropout, GlobalAveragePooling2D\n",
        "from tensorflow.keras.preprocessing.image import ImageDataGenerator\n",
        "import matplotlib.pyplot as plt\n",
        "import numpy as np"
      ]
    },
    {
      "cell_type": "code",
      "source": [
        "train_dir = '/content/drive/MyDrive/asl dataset/new_train'\n",
        "test_dir = '/content/drive/MyDrive/asl dataset/new_test'"
      ],
      "metadata": {
        "id": "3DaKNe9coApx"
      },
      "execution_count": 6,
      "outputs": []
    },
    {
      "cell_type": "code",
      "source": [
        "train_datagen = ImageDataGenerator(\n",
        "    rescale = 1./255,\n",
        "    shear_range = 0.2,\n",
        "    zoom_range = 0.2,\n",
        "    horizontal_flip = True\n",
        ")\n",
        "test_datagen = ImageDataGenerator(rescale = 1./255)"
      ],
      "metadata": {
        "id": "xt-N8tdzoEBv"
      },
      "execution_count": 7,
      "outputs": []
    },
    {
      "cell_type": "code",
      "source": [
        "train_generator = train_datagen.flow_from_directory(\n",
        "    train_dir,\n",
        "    target_size = (224, 224),\n",
        "    batch_size = 32,\n",
        "    class_mode = 'categorical'\n",
        ")\n",
        "\n",
        "test_generator = test_datagen.flow_from_directory(\n",
        "    test_dir,\n",
        "    target_size = (224, 224),\n",
        "    batch_size = 32,\n",
        "    class_mode = 'categorical'\n",
        ")"
      ],
      "metadata": {
        "id": "Gp0supRIoDz6",
        "colab": {
          "base_uri": "https://localhost:8080/"
        },
        "outputId": "f83cd245-3e21-46a0-9999-9240fade6afc"
      },
      "execution_count": 8,
      "outputs": [
        {
          "output_type": "stream",
          "name": "stdout",
          "text": [
            "Found 13257 images belonging to 29 classes.\n",
            "Found 1450 images belonging to 29 classes.\n"
          ]
        }
      ]
    },
    {
      "cell_type": "code",
      "source": [
        "dataset = tf.keras.preprocessing.image_dataset_from_directory('/content/drive/MyDrive/asl dataset/new_train')"
      ],
      "metadata": {
        "id": "G_0xVTW7oDq2",
        "colab": {
          "base_uri": "https://localhost:8080/"
        },
        "outputId": "7a3618b4-5464-420a-b762-dff65f90d1b2"
      },
      "execution_count": 9,
      "outputs": [
        {
          "output_type": "stream",
          "name": "stdout",
          "text": [
            "Found 13257 files belonging to 29 classes.\n"
          ]
        }
      ]
    },
    {
      "cell_type": "code",
      "source": [
        "from google.colab import drive\n",
        "drive.mount('/content/drive')"
      ],
      "metadata": {
        "id": "PArhQTMp1A0w"
      },
      "execution_count": null,
      "outputs": []
    },
    {
      "cell_type": "code",
      "source": [
        "classes = dataset.class_names\n",
        "classes"
      ],
      "metadata": {
        "id": "NLvlCn02oDhe",
        "colab": {
          "base_uri": "https://localhost:8080/"
        },
        "outputId": "85c91cf8-2b2e-4ebe-c6d4-284511f0e529"
      },
      "execution_count": 10,
      "outputs": [
        {
          "output_type": "execute_result",
          "data": {
            "text/plain": [
              "['A',\n",
              " 'B',\n",
              " 'C',\n",
              " 'D',\n",
              " 'E',\n",
              " 'F',\n",
              " 'G',\n",
              " 'H',\n",
              " 'I',\n",
              " 'J',\n",
              " 'K',\n",
              " 'L',\n",
              " 'M',\n",
              " 'N',\n",
              " 'O',\n",
              " 'P',\n",
              " 'Q',\n",
              " 'R',\n",
              " 'S',\n",
              " 'T',\n",
              " 'U',\n",
              " 'V',\n",
              " 'W',\n",
              " 'X',\n",
              " 'Y',\n",
              " 'Z',\n",
              " 'del',\n",
              " 'nothing',\n",
              " 'space']"
            ]
          },
          "metadata": {},
          "execution_count": 10
        }
      ]
    },
    {
      "cell_type": "code",
      "source": [
        "base_model = VGG16(\n",
        "    weights = 'imagenet',\n",
        "    include_top = False,\n",
        "    input_shape = (224, 224, 3)\n",
        ")\n",
        "\n",
        "base_model = VGG16(weights='imagenet', include_top=False, input_shape=(224, 224, 3))\n",
        "for layer in base_model.layers[:-4]:\n",
        "    layer.trainable = False\n",
        "for layer in base_model.layers[-4:]:\n",
        "    layer.trainable = True\n",
        "\n",
        "model = Sequential([\n",
        "    base_model,\n",
        "    GlobalAveragePooling2D(),\n",
        "    Dense(512, activation = 'relu'),\n",
        "    Dropout(0.5),\n",
        "    Dense(29, activation = 'softmax')\n",
        "])"
      ],
      "metadata": {
        "id": "QtZoZyiXoDYF",
        "colab": {
          "base_uri": "https://localhost:8080/"
        },
        "outputId": "6d005921-e611-453d-aa4a-966a0374232f"
      },
      "execution_count": 11,
      "outputs": [
        {
          "output_type": "stream",
          "name": "stdout",
          "text": [
            "Downloading data from https://storage.googleapis.com/tensorflow/keras-applications/vgg16/vgg16_weights_tf_dim_ordering_tf_kernels_notop.h5\n",
            "\u001b[1m58889256/58889256\u001b[0m \u001b[32m━━━━━━━━━━━━━━━━━━━━\u001b[0m\u001b[37m\u001b[0m \u001b[1m0s\u001b[0m 0us/step\n"
          ]
        }
      ]
    },
    {
      "cell_type": "code",
      "source": [
        "model.compile(tf.keras.optimizers.Adam(learning_rate = 0.0001),\n",
        "              loss = 'categorical_crossentropy',\n",
        "              metrics = ['accuracy'])"
      ],
      "metadata": {
        "id": "loGvH8-1oDN7"
      },
      "execution_count": 12,
      "outputs": []
    },
    {
      "cell_type": "code",
      "source": [
        "history = model.fit(\n",
        "    train_generator,\n",
        "    epochs = 25,\n",
        "    validation_data = test_generator\n",
        ")"
      ],
      "metadata": {
        "id": "MrzB7HeFoDDi",
        "colab": {
          "base_uri": "https://localhost:8080/"
        },
        "outputId": "ef4879e3-9ff4-49e6-fd76-51f5c107416a"
      },
      "execution_count": 13,
      "outputs": [
        {
          "output_type": "stream",
          "name": "stderr",
          "text": [
            "/usr/local/lib/python3.11/dist-packages/keras/src/trainers/data_adapters/py_dataset_adapter.py:121: UserWarning: Your `PyDataset` class should call `super().__init__(**kwargs)` in its constructor. `**kwargs` can include `workers`, `use_multiprocessing`, `max_queue_size`. Do not pass these arguments to `fit()`, as they will be ignored.\n",
            "  self._warn_if_super_not_called()\n"
          ]
        },
        {
          "output_type": "stream",
          "name": "stdout",
          "text": [
            "Epoch 1/25\n",
            "\u001b[1m415/415\u001b[0m \u001b[32m━━━━━━━━━━━━━━━━━━━━\u001b[0m\u001b[37m\u001b[0m \u001b[1m5870s\u001b[0m 14s/step - accuracy: 0.2972 - loss: 2.4977 - val_accuracy: 0.8441 - val_loss: 0.5248\n",
            "Epoch 2/25\n",
            "\u001b[1m415/415\u001b[0m \u001b[32m━━━━━━━━━━━━━━━━━━━━\u001b[0m\u001b[37m\u001b[0m \u001b[1m227s\u001b[0m 547ms/step - accuracy: 0.8234 - loss: 0.5932 - val_accuracy: 0.9221 - val_loss: 0.2984\n",
            "Epoch 3/25\n",
            "\u001b[1m415/415\u001b[0m \u001b[32m━━━━━━━━━━━━━━━━━━━━\u001b[0m\u001b[37m\u001b[0m \u001b[1m226s\u001b[0m 545ms/step - accuracy: 0.8961 - loss: 0.3445 - val_accuracy: 0.9386 - val_loss: 0.2202\n",
            "Epoch 4/25\n",
            "\u001b[1m415/415\u001b[0m \u001b[32m━━━━━━━━━━━━━━━━━━━━\u001b[0m\u001b[37m\u001b[0m \u001b[1m262s\u001b[0m 544ms/step - accuracy: 0.9227 - loss: 0.2491 - val_accuracy: 0.9434 - val_loss: 0.1799\n",
            "Epoch 5/25\n",
            "\u001b[1m415/415\u001b[0m \u001b[32m━━━━━━━━━━━━━━━━━━━━\u001b[0m\u001b[37m\u001b[0m \u001b[1m224s\u001b[0m 540ms/step - accuracy: 0.9353 - loss: 0.2113 - val_accuracy: 0.9490 - val_loss: 0.1484\n",
            "Epoch 6/25\n",
            "\u001b[1m415/415\u001b[0m \u001b[32m━━━━━━━━━━━━━━━━━━━━\u001b[0m\u001b[37m\u001b[0m \u001b[1m223s\u001b[0m 538ms/step - accuracy: 0.9530 - loss: 0.1448 - val_accuracy: 0.9579 - val_loss: 0.1397\n",
            "Epoch 7/25\n",
            "\u001b[1m415/415\u001b[0m \u001b[32m━━━━━━━━━━━━━━━━━━━━\u001b[0m\u001b[37m\u001b[0m \u001b[1m224s\u001b[0m 539ms/step - accuracy: 0.9615 - loss: 0.1232 - val_accuracy: 0.9614 - val_loss: 0.1210\n",
            "Epoch 8/25\n",
            "\u001b[1m415/415\u001b[0m \u001b[32m━━━━━━━━━━━━━━━━━━━━\u001b[0m\u001b[37m\u001b[0m \u001b[1m228s\u001b[0m 549ms/step - accuracy: 0.9699 - loss: 0.1033 - val_accuracy: 0.9662 - val_loss: 0.1118\n",
            "Epoch 9/25\n",
            "\u001b[1m415/415\u001b[0m \u001b[32m━━━━━━━━━━━━━━━━━━━━\u001b[0m\u001b[37m\u001b[0m \u001b[1m223s\u001b[0m 536ms/step - accuracy: 0.9705 - loss: 0.0971 - val_accuracy: 0.9807 - val_loss: 0.0777\n",
            "Epoch 10/25\n",
            "\u001b[1m415/415\u001b[0m \u001b[32m━━━━━━━━━━━━━━━━━━━━\u001b[0m\u001b[37m\u001b[0m \u001b[1m224s\u001b[0m 541ms/step - accuracy: 0.9773 - loss: 0.0732 - val_accuracy: 0.9745 - val_loss: 0.1002\n",
            "Epoch 11/25\n",
            "\u001b[1m415/415\u001b[0m \u001b[32m━━━━━━━━━━━━━━━━━━━━\u001b[0m\u001b[37m\u001b[0m \u001b[1m226s\u001b[0m 545ms/step - accuracy: 0.9788 - loss: 0.0698 - val_accuracy: 0.9648 - val_loss: 0.1067\n",
            "Epoch 12/25\n",
            "\u001b[1m415/415\u001b[0m \u001b[32m━━━━━━━━━━━━━━━━━━━━\u001b[0m\u001b[37m\u001b[0m \u001b[1m229s\u001b[0m 551ms/step - accuracy: 0.9836 - loss: 0.0575 - val_accuracy: 0.9772 - val_loss: 0.0744\n",
            "Epoch 13/25\n",
            "\u001b[1m415/415\u001b[0m \u001b[32m━━━━━━━━━━━━━━━━━━━━\u001b[0m\u001b[37m\u001b[0m \u001b[1m224s\u001b[0m 539ms/step - accuracy: 0.9840 - loss: 0.0517 - val_accuracy: 0.9786 - val_loss: 0.0745\n",
            "Epoch 14/25\n",
            "\u001b[1m415/415\u001b[0m \u001b[32m━━━━━━━━━━━━━━━━━━━━\u001b[0m\u001b[37m\u001b[0m \u001b[1m225s\u001b[0m 543ms/step - accuracy: 0.9856 - loss: 0.0512 - val_accuracy: 0.9683 - val_loss: 0.1023\n",
            "Epoch 15/25\n",
            "\u001b[1m415/415\u001b[0m \u001b[32m━━━━━━━━━━━━━━━━━━━━\u001b[0m\u001b[37m\u001b[0m \u001b[1m225s\u001b[0m 541ms/step - accuracy: 0.9866 - loss: 0.0400 - val_accuracy: 0.9759 - val_loss: 0.0911\n",
            "Epoch 16/25\n",
            "\u001b[1m415/415\u001b[0m \u001b[32m━━━━━━━━━━━━━━━━━━━━\u001b[0m\u001b[37m\u001b[0m \u001b[1m227s\u001b[0m 546ms/step - accuracy: 0.9871 - loss: 0.0420 - val_accuracy: 0.9779 - val_loss: 0.0756\n",
            "Epoch 17/25\n",
            "\u001b[1m415/415\u001b[0m \u001b[32m━━━━━━━━━━━━━━━━━━━━\u001b[0m\u001b[37m\u001b[0m \u001b[1m261s\u001b[0m 543ms/step - accuracy: 0.9908 - loss: 0.0310 - val_accuracy: 0.9800 - val_loss: 0.0880\n",
            "Epoch 18/25\n",
            "\u001b[1m415/415\u001b[0m \u001b[32m━━━━━━━━━━━━━━━━━━━━\u001b[0m\u001b[37m\u001b[0m \u001b[1m224s\u001b[0m 539ms/step - accuracy: 0.9880 - loss: 0.0354 - val_accuracy: 0.9834 - val_loss: 0.0585\n",
            "Epoch 19/25\n",
            "\u001b[1m415/415\u001b[0m \u001b[32m━━━━━━━━━━━━━━━━━━━━\u001b[0m\u001b[37m\u001b[0m \u001b[1m225s\u001b[0m 541ms/step - accuracy: 0.9869 - loss: 0.0399 - val_accuracy: 0.9703 - val_loss: 0.0829\n",
            "Epoch 20/25\n",
            "\u001b[1m415/415\u001b[0m \u001b[32m━━━━━━━━━━━━━━━━━━━━\u001b[0m\u001b[37m\u001b[0m \u001b[1m224s\u001b[0m 541ms/step - accuracy: 0.9912 - loss: 0.0291 - val_accuracy: 0.9703 - val_loss: 0.0875\n",
            "Epoch 21/25\n",
            "\u001b[1m415/415\u001b[0m \u001b[32m━━━━━━━━━━━━━━━━━━━━\u001b[0m\u001b[37m\u001b[0m \u001b[1m225s\u001b[0m 541ms/step - accuracy: 0.9935 - loss: 0.0263 - val_accuracy: 0.9772 - val_loss: 0.0786\n",
            "Epoch 22/25\n",
            "\u001b[1m415/415\u001b[0m \u001b[32m━━━━━━━━━━━━━━━━━━━━\u001b[0m\u001b[37m\u001b[0m \u001b[1m262s\u001b[0m 541ms/step - accuracy: 0.9920 - loss: 0.0293 - val_accuracy: 0.9752 - val_loss: 0.0852\n",
            "Epoch 23/25\n",
            "\u001b[1m415/415\u001b[0m \u001b[32m━━━━━━━━━━━━━━━━━━━━\u001b[0m\u001b[37m\u001b[0m \u001b[1m223s\u001b[0m 536ms/step - accuracy: 0.9928 - loss: 0.0287 - val_accuracy: 0.9814 - val_loss: 0.0698\n",
            "Epoch 24/25\n",
            "\u001b[1m415/415\u001b[0m \u001b[32m━━━━━━━━━━━━━━━━━━━━\u001b[0m\u001b[37m\u001b[0m \u001b[1m222s\u001b[0m 535ms/step - accuracy: 0.9899 - loss: 0.0363 - val_accuracy: 0.9834 - val_loss: 0.0708\n",
            "Epoch 25/25\n",
            "\u001b[1m415/415\u001b[0m \u001b[32m━━━━━━━━━━━━━━━━━━━━\u001b[0m\u001b[37m\u001b[0m \u001b[1m226s\u001b[0m 544ms/step - accuracy: 0.9948 - loss: 0.0207 - val_accuracy: 0.9766 - val_loss: 0.1168\n"
          ]
        }
      ]
    },
    {
      "cell_type": "code",
      "source": [
        "hist = history.history\n",
        "hist.keys()"
      ],
      "metadata": {
        "id": "SMPUihRsoC3v",
        "colab": {
          "base_uri": "https://localhost:8080/"
        },
        "outputId": "017c44d3-8092-49df-c349-8feb12bb3f8a"
      },
      "execution_count": 14,
      "outputs": [
        {
          "output_type": "execute_result",
          "data": {
            "text/plain": [
              "dict_keys(['accuracy', 'loss', 'val_accuracy', 'val_loss'])"
            ]
          },
          "metadata": {},
          "execution_count": 14
        }
      ]
    },
    {
      "cell_type": "code",
      "source": [
        "hist['val_accuracy'][-1]"
      ],
      "metadata": {
        "id": "xSN7pZTxoCpg",
        "colab": {
          "base_uri": "https://localhost:8080/"
        },
        "outputId": "a8193e14-e158-44e8-f3b2-140cd0b82ad6"
      },
      "execution_count": 15,
      "outputs": [
        {
          "output_type": "execute_result",
          "data": {
            "text/plain": [
              "0.9765517115592957"
            ]
          },
          "metadata": {},
          "execution_count": 15
        }
      ]
    },
    {
      "cell_type": "code",
      "source": [
        "plt.figure(figsize = (10, 5))\n",
        "plt.subplot(1,2,1)\n",
        "plt.plot(history.history['accuracy'], label = 'Training Accurscy')\n",
        "plt.plot(history.history['val_accuracy'], label = 'Validation Accuracy')\n",
        "plt.title('Accuracy')\n",
        "plt.legend()\n",
        "plt.show()\n",
        "plt.figure(figsize = (10, 5))\n",
        "plt.subplot(1,2,2)\n",
        "plt.plot(history.history['loss'], label = 'Training Loss')\n",
        "plt.plot(history.history['val_loss'], label = 'Validation Loss')\n",
        "plt.title('Loss')\n",
        "plt.legend()\n",
        "plt.show()"
      ],
      "metadata": {
        "id": "1kvGV05pveem",
        "colab": {
          "base_uri": "https://localhost:8080/",
          "height": 919
        },
        "outputId": "56021637-397f-45f3-d87a-18156a27a222"
      },
      "execution_count": 16,
      "outputs": [
        {
          "output_type": "display_data",
          "data": {
            "text/plain": [
              "<Figure size 1000x500 with 1 Axes>"
            ],
            "image/png": "[encoded data removed]"
          },
          "metadata": {}
        },
        {
          "output_type": "display_data",
          "data": {
            "text/plain": [
              "<Figure size 1000x500 with 1 Axes>"
            ],
            "image/png": "[encoded data removed]"
          },
          "metadata": {}
        }
      ]
    },
    {
      "cell_type": "code",
      "source": [
        "def spell_word(image_paths):\n",
        "  word = \"\"\n",
        "  for image_path in image_paths:\n",
        "    img = tf.keras.preprocessing.image.load_img(image_path, target_size = (224, 224))\n",
        "    img_array = tf.keras.preprocessing.image.img_to_array(img)\n",
        "    img_array = tf.keras.applications.vgg16.preprocess_input(img_array)\n",
        "    img_array = np.expand_dims(img_array, axis = 0)\n",
        "    prediction = model.predict(img_array)\n",
        "    label = classes[np.argmax(prediction)]\n",
        "    if label == 'space':\n",
        "      word += ' '\n",
        "    elif label == 'del':\n",
        "      word = word[:-1] if word else word\n",
        "    elif label == 'nothing':\n",
        "      continue\n",
        "    else:\n",
        "      word += label\n",
        "    print(f\"Image: {image_path.split('/')[-1]}, Predicted: {label}\")\n",
        "  return word"
      ],
      "metadata": {
        "id": "cQOAk-uKvear"
      },
      "execution_count": 17,
      "outputs": []
    },
    {
      "cell_type": "code",
      "source": [
        "test_images = ['/content/drive/MyDrive/asl dataset/new_test/H/H (1235).jpg',\n",
        "               '/content/drive/MyDrive/asl dataset/new_test/I/I (1561).jpg'\n",
        "]\n",
        "spelled_word = spell_word(test_images)\n",
        "print(\"Spelled Word:\", spelled_word)"
      ],
      "metadata": {
        "id": "6KkRLOwXveYs",
        "colab": {
          "base_uri": "https://localhost:8080/"
        },
        "outputId": "888536ca-34cc-4327-f8d8-2c584a499526"
      },
      "execution_count": 18,
      "outputs": [
        {
          "output_type": "stream",
          "name": "stdout",
          "text": [
            "\u001b[1m1/1\u001b[0m \u001b[32m━━━━━━━━━━━━━━━━━━━━\u001b[0m\u001b[37m\u001b[0m \u001b[1m2s\u001b[0m 2s/step\n",
            "Image: H (1235).jpg, Predicted: H\n",
            "\u001b[1m1/1\u001b[0m \u001b[32m━━━━━━━━━━━━━━━━━━━━\u001b[0m\u001b[37m\u001b[0m \u001b[1m0s\u001b[0m 33ms/step\n",
            "Image: I (1561).jpg, Predicted: I\n",
            "Spelled Word: HI\n"
          ]
        }
      ]
    },
    {
      "cell_type": "code",
      "source": [
        "test_images = ['/content/drive/MyDrive/asl dataset/new_test/O/O (1261).jpg',\n",
        "               '/content/drive/MyDrive/asl dataset/new_test/space/space (2375).jpg',\n",
        "               '/content/drive/MyDrive/asl dataset/new_test/M/M (1478).jpg',\n",
        "               '/content/drive/MyDrive/asl dataset/new_test/nothing/nothing1291.jpg',\n",
        "               '/content/drive/MyDrive/asl dataset/new_test/G/G (1057).jpg',\n",
        "               '/content/drive/MyDrive/asl dataset/new_test/Y/Y (1193).jpg',\n",
        "               '/content/drive/MyDrive/asl dataset/new_test/del/del (1191).jpg'\n",
        "]\n",
        "spelled_word = spell_word(test_images)\n",
        "print(\"Spelled Word:\", spelled_word)"
      ],
      "metadata": {
        "id": "qXVAvon-veVQ",
        "colab": {
          "base_uri": "https://localhost:8080/"
        },
        "outputId": "83a3a06f-17d8-4270-bd22-f3b738dd09df"
      },
      "execution_count": 19,
      "outputs": [
        {
          "output_type": "stream",
          "name": "stdout",
          "text": [
            "\u001b[1m1/1\u001b[0m \u001b[32m━━━━━━━━━━━━━━━━━━━━\u001b[0m\u001b[37m\u001b[0m \u001b[1m0s\u001b[0m 40ms/step\n",
            "Image: O (1261).jpg, Predicted: O\n",
            "\u001b[1m1/1\u001b[0m \u001b[32m━━━━━━━━━━━━━━━━━━━━\u001b[0m\u001b[37m\u001b[0m \u001b[1m0s\u001b[0m 40ms/step\n",
            "Image: space (2375).jpg, Predicted: space\n",
            "\u001b[1m1/1\u001b[0m \u001b[32m━━━━━━━━━━━━━━━━━━━━\u001b[0m\u001b[37m\u001b[0m \u001b[1m0s\u001b[0m 43ms/step\n",
            "Image: M (1478).jpg, Predicted: M\n",
            "\u001b[1m1/1\u001b[0m \u001b[32m━━━━━━━━━━━━━━━━━━━━\u001b[0m\u001b[37m\u001b[0m \u001b[1m0s\u001b[0m 42ms/step\n",
            "\u001b[1m1/1\u001b[0m \u001b[32m━━━━━━━━━━━━━━━━━━━━\u001b[0m\u001b[37m\u001b[0m \u001b[1m0s\u001b[0m 40ms/step\n",
            "Image: G (1057).jpg, Predicted: G\n",
            "\u001b[1m1/1\u001b[0m \u001b[32m━━━━━━━━━━━━━━━━━━━━\u001b[0m\u001b[37m\u001b[0m \u001b[1m0s\u001b[0m 42ms/step\n",
            "Image: Y (1193).jpg, Predicted: Y\n",
            "\u001b[1m1/1\u001b[0m \u001b[32m━━━━━━━━━━━━━━━━━━━━\u001b[0m\u001b[37m\u001b[0m \u001b[1m0s\u001b[0m 39ms/step\n",
            "Image: del (1191).jpg, Predicted: del\n",
            "Spelled Word: O MG\n"
          ]
        }
      ]
    },
    {
      "cell_type": "code",
      "source": [],
      "metadata": {
        "id": "UTGsbqjPveTZ"
      },
      "execution_count": null,
      "outputs": []
    }
  ]
}